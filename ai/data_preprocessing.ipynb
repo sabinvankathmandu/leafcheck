{
 "cells": [
  {
   "cell_type": "code",
   "execution_count": 1,
   "id": "15d209f9",
   "metadata": {},
   "outputs": [],
   "source": [
    "import os\n",
    "import numpy as np\n",
    "import cv2\n",
    "from sklearn.model_selection import train_test_split\n",
    "from sklearn.preprocessing import LabelEncoder\n",
    "from tensorflow.keras.utils import to_categorical"
   ]
  },
  {
   "cell_type": "code",
   "execution_count": 3,
   "id": "f8d0de22",
   "metadata": {},
   "outputs": [
    {
     "name": "stdout",
     "output_type": "stream",
     "text": [
      "Requirement already satisfied: tensorflow in c:\\users\\sabin\\anaconda3\\lib\\site-packages (2.19.0)\n",
      "Requirement already satisfied: absl-py>=1.0.0 in c:\\users\\sabin\\anaconda3\\lib\\site-packages (from tensorflow) (2.2.0)\n",
      "Requirement already satisfied: astunparse>=1.6.0 in c:\\users\\sabin\\anaconda3\\lib\\site-packages (from tensorflow) (1.6.3)\n",
      "Requirement already satisfied: flatbuffers>=24.3.25 in c:\\users\\sabin\\anaconda3\\lib\\site-packages (from tensorflow) (25.2.10)\n",
      "Requirement already satisfied: gast!=0.5.0,!=0.5.1,!=0.5.2,>=0.2.1 in c:\\users\\sabin\\anaconda3\\lib\\site-packages (from tensorflow) (0.6.0)\n",
      "Requirement already satisfied: google-pasta>=0.1.1 in c:\\users\\sabin\\anaconda3\\lib\\site-packages (from tensorflow) (0.2.0)\n",
      "Requirement already satisfied: libclang>=13.0.0 in c:\\users\\sabin\\anaconda3\\lib\\site-packages (from tensorflow) (18.1.1)\n",
      "Requirement already satisfied: opt-einsum>=2.3.2 in c:\\users\\sabin\\anaconda3\\lib\\site-packages (from tensorflow) (3.4.0)\n",
      "Requirement already satisfied: packaging in c:\\users\\sabin\\anaconda3\\lib\\site-packages (from tensorflow) (20.9)\n",
      "Requirement already satisfied: protobuf!=4.21.0,!=4.21.1,!=4.21.2,!=4.21.3,!=4.21.4,!=4.21.5,<6.0.0dev,>=3.20.3 in c:\\users\\sabin\\anaconda3\\lib\\site-packages (from tensorflow) (4.25.3)\n",
      "Requirement already satisfied: requests<3,>=2.21.0 in c:\\users\\sabin\\anaconda3\\lib\\site-packages (from tensorflow) (2.32.3)\n",
      "Requirement already satisfied: setuptools in c:\\users\\sabin\\anaconda3\\lib\\site-packages (from tensorflow) (75.1.0)\n",
      "Requirement already satisfied: six>=1.12.0 in c:\\users\\sabin\\anaconda3\\lib\\site-packages (from tensorflow) (1.16.0)\n",
      "Requirement already satisfied: termcolor>=1.1.0 in c:\\users\\sabin\\anaconda3\\lib\\site-packages (from tensorflow) (2.5.0)\n",
      "Requirement already satisfied: typing-extensions>=3.6.6 in c:\\users\\sabin\\anaconda3\\lib\\site-packages (from tensorflow) (4.11.0)\n",
      "Requirement already satisfied: wrapt>=1.11.0 in c:\\users\\sabin\\anaconda3\\lib\\site-packages (from tensorflow) (1.14.1)\n",
      "Requirement already satisfied: grpcio<2.0,>=1.24.3 in c:\\users\\sabin\\anaconda3\\lib\\site-packages (from tensorflow) (1.71.0)\n",
      "Requirement already satisfied: tensorboard~=2.19.0 in c:\\users\\sabin\\anaconda3\\lib\\site-packages (from tensorflow) (2.19.0)\n",
      "Requirement already satisfied: keras>=3.5.0 in c:\\users\\sabin\\anaconda3\\lib\\site-packages (from tensorflow) (3.9.0)\n",
      "Requirement already satisfied: numpy<2.2.0,>=1.26.0 in c:\\users\\sabin\\anaconda3\\lib\\site-packages (from tensorflow) (1.26.4)\n",
      "Requirement already satisfied: h5py>=3.11.0 in c:\\users\\sabin\\anaconda3\\lib\\site-packages (from tensorflow) (3.11.0)\n",
      "Requirement already satisfied: ml-dtypes<1.0.0,>=0.5.1 in c:\\users\\sabin\\anaconda3\\lib\\site-packages (from tensorflow) (0.5.1)\n",
      "Requirement already satisfied: wheel<1.0,>=0.23.0 in c:\\users\\sabin\\anaconda3\\lib\\site-packages (from astunparse>=1.6.0->tensorflow) (0.44.0)\n",
      "Requirement already satisfied: rich in c:\\users\\sabin\\anaconda3\\lib\\site-packages (from keras>=3.5.0->tensorflow) (13.7.1)\n",
      "Requirement already satisfied: namex in c:\\users\\sabin\\anaconda3\\lib\\site-packages (from keras>=3.5.0->tensorflow) (0.0.8)\n",
      "Requirement already satisfied: optree in c:\\users\\sabin\\anaconda3\\lib\\site-packages (from keras>=3.5.0->tensorflow) (0.14.1)\n",
      "Requirement already satisfied: charset-normalizer<4,>=2 in c:\\users\\sabin\\anaconda3\\lib\\site-packages (from requests<3,>=2.21.0->tensorflow) (3.3.2)\n",
      "Requirement already satisfied: idna<4,>=2.5 in c:\\users\\sabin\\anaconda3\\lib\\site-packages (from requests<3,>=2.21.0->tensorflow) (2.10)\n",
      "Requirement already satisfied: urllib3<3,>=1.21.1 in c:\\users\\sabin\\anaconda3\\lib\\site-packages (from requests<3,>=2.21.0->tensorflow) (2.2.3)\n",
      "Requirement already satisfied: certifi>=2017.4.17 in c:\\users\\sabin\\anaconda3\\lib\\site-packages (from requests<3,>=2.21.0->tensorflow) (2024.8.30)\n",
      "Requirement already satisfied: markdown>=2.6.8 in c:\\users\\sabin\\anaconda3\\lib\\site-packages (from tensorboard~=2.19.0->tensorflow) (3.4.1)\n",
      "Requirement already satisfied: tensorboard-data-server<0.8.0,>=0.7.0 in c:\\users\\sabin\\anaconda3\\lib\\site-packages (from tensorboard~=2.19.0->tensorflow) (0.7.2)\n",
      "Requirement already satisfied: werkzeug>=1.0.1 in c:\\users\\sabin\\anaconda3\\lib\\site-packages (from tensorboard~=2.19.0->tensorflow) (3.0.3)\n",
      "Requirement already satisfied: pyparsing>=2.0.2 in c:\\users\\sabin\\anaconda3\\lib\\site-packages (from packaging->tensorflow) (3.1.2)\n",
      "Requirement already satisfied: MarkupSafe>=2.1.1 in c:\\users\\sabin\\anaconda3\\lib\\site-packages (from werkzeug>=1.0.1->tensorboard~=2.19.0->tensorflow) (2.1.3)\n",
      "Requirement already satisfied: markdown-it-py>=2.2.0 in c:\\users\\sabin\\anaconda3\\lib\\site-packages (from rich->keras>=3.5.0->tensorflow) (2.2.0)\n",
      "Requirement already satisfied: pygments<3.0.0,>=2.13.0 in c:\\users\\sabin\\anaconda3\\lib\\site-packages (from rich->keras>=3.5.0->tensorflow) (2.15.1)\n",
      "Requirement already satisfied: mdurl~=0.1 in c:\\users\\sabin\\anaconda3\\lib\\site-packages (from markdown-it-py>=2.2.0->rich->keras>=3.5.0->tensorflow) (0.1.0)\n"
     ]
    }
   ],
   "source": [
    "! pip install tensorflow"
   ]
  },
  {
   "cell_type": "code",
   "execution_count": 2,
   "id": "2867b775",
   "metadata": {},
   "outputs": [],
   "source": [
    "# Configurations\n",
    "IMAGE_SIZE = 128  # Resize all images to 128x128\n",
    "DATA_DIR = \"data\"  # path where our sample data is present (data folder)"
   ]
  },
  {
   "cell_type": "code",
   "execution_count": 10,
   "id": "29bb83f0",
   "metadata": {},
   "outputs": [
    {
     "name": "stdout",
     "output_type": "stream",
     "text": [
      "✅ Preprocessing complete. Data saved.\n"
     ]
    }
   ],
   "source": [
    "# Data holders\n",
    "images = []\n",
    "labels = []\n",
    "\n",
    "# ----------------------------- Load Images -----------------------------\n",
    "# Loop through each class folder inside the 'data' directory\n",
    "for label in os.listdir(DATA_DIR):\n",
    "    label_folder = os.path.join(DATA_DIR, label)  # Full path to the class folder\n",
    "\n",
    "    # Make sure it's a directory (not a file)\n",
    "    if os.path.isdir(label_folder):\n",
    "        # Loop through each image in the class folder\n",
    "        for img_file in os.listdir(label_folder):\n",
    "            img_path = os.path.join(label_folder, img_file)  # Full path to the image file\n",
    "            try:\n",
    "                img = cv2.imread(img_path)  # Read the image using OpenCV\n",
    "                img = cv2.resize(img, (IMAGE_SIZE, IMAGE_SIZE))  # Resize to 128x128\n",
    "                img = img / 255.0  # Normalize pixel values to range [0, 1]\n",
    "                images.append(img)  # Add image to list\n",
    "                labels.append(label)  # Add label (class name) to list\n",
    "            except Exception as e:\n",
    "                print(f\"Failed to process {img_path}: {e}\")  # Print error if image fails\n",
    "\n",
    "# ----------------------------- Convert to Numpy Arrays -----------------------------\n",
    "X = np.array(images)  # Convert image list to numpy array\n",
    "y = np.array(labels)  # Convert label list to numpy array\n",
    "\n",
    "# ----------------------------- Encode Labels -----------------------------\n",
    "label_encoder = LabelEncoder()  # Create label encoder instance\n",
    "y_encoded = label_encoder.fit_transform(y)  # Convert class names to integers\n",
    "y_categorical = to_categorical(y_encoded)  # One-hot encode the labels\n",
    "\n",
    "# ----------------------------- Train-Test Split -----------------------------\n",
    "X_train, X_test, y_train, y_test = train_test_split(\n",
    "    X, y_categorical, test_size=0.2, random_state=42, stratify=y_categorical\n",
    ")\n",
    "# 20% data will be used for testing; 80% for training\n",
    "\n",
    "# ----------------------------- Save Data to .npy Files -----------------------------\n",
    "np.save(\"X_train.npy\", X_train)\n",
    "np.save(\"X_test.npy\", X_test)\n",
    "np.save(\"y_train.npy\", y_train)\n",
    "np.save(\"y_test.npy\", y_test)\n",
    "np.save(\"classes.npy\", label_encoder.classes_)  # Save class names for future reference\n",
    "\n",
    "print(\"✅ Preprocessing complete. Data saved.\")"
   ]
  },
  {
   "cell_type": "code",
   "execution_count": 11,
   "id": "67069208",
   "metadata": {},
   "outputs": [],
   "source": [
    "X_train = np.load(\"X_train.npy\")\n",
    "y_train = np.load(\"y_train.npy\")\n",
    "classes = np.load(\"classes.npy\")"
   ]
  },
  {
   "cell_type": "code",
   "execution_count": 12,
   "id": "a05179a3",
   "metadata": {},
   "outputs": [
    {
     "name": "stdout",
     "output_type": "stream",
     "text": [
      "(128, 128, 3)\n",
      "[0. 1. 0. 0. 0. 0. 0. 0.]\n",
      "['Pepper_bell_Bacterial_spot' 'Pepper_bell_healthy' 'Potato_Late_blight'\n",
      " 'Potato_heatlhy' 'Tomato_Bacterial_spot' 'Tomato_Septorial_leaf_spot'\n",
      " 'Tomato__Tomato_mosaic_virus' 'Tomato_healthy']\n"
     ]
    }
   ],
   "source": [
    "# check the first image and label\n",
    "print(X_train[0].shape)  # (128, 128, 3)\n",
    "print(y_train[0])        # [0, 1] or similar\n",
    "print(classes)           # ['Diseased', 'Healthy']"
   ]
  },
  {
   "cell_type": "code",
   "execution_count": null,
   "id": "a8df00e6",
   "metadata": {},
   "outputs": [],
   "source": []
  }
 ],
 "metadata": {
  "kernelspec": {
   "display_name": "base",
   "language": "python",
   "name": "python3"
  },
  "language_info": {
   "codemirror_mode": {
    "name": "ipython",
    "version": 3
   },
   "file_extension": ".py",
   "mimetype": "text/x-python",
   "name": "python",
   "nbconvert_exporter": "python",
   "pygments_lexer": "ipython3",
   "version": "3.12.7"
  }
 },
 "nbformat": 4,
 "nbformat_minor": 5
}
