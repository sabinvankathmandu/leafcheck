{
 "cells": [
  {
   "cell_type": "code",
   "execution_count": 13,
   "id": "15d209f9",
   "metadata": {},
   "outputs": [],
   "source": [
    "import os\n",
    "import numpy as np\n",
    "import cv2\n",
    "from sklearn.model_selection import train_test_split\n",
    "from sklearn.preprocessing import LabelEncoder\n",
    "from tensorflow.keras.utils import to_categorical"
   ]
  },
  {
   "cell_type": "code",
   "execution_count": null,
   "id": "f8d0de22",
   "metadata": {},
   "outputs": [],
   "source": [
    "! pip install tensorflow"
   ]
  },
  {
   "cell_type": "code",
   "execution_count": 15,
   "id": "2867b775",
   "metadata": {},
   "outputs": [],
   "source": [
    "# Configurations\n",
    "IMAGE_SIZE = 128  # Resize all images to 128x128\n",
    "DATA_DIR = \"data\"  # path where our sample data is present (data folder)"
   ]
  },
  {
   "cell_type": "code",
   "execution_count": 16,
   "id": "29bb83f0",
   "metadata": {},
   "outputs": [
    {
     "name": "stdout",
     "output_type": "stream",
     "text": [
      "✅ Preprocessing complete. Data saved.\n"
     ]
    }
   ],
   "source": [
    "# Data holders\n",
    "images = []\n",
    "labels = []\n",
    "\n",
    "# ----------------------------- Load Images -----------------------------\n",
    "# Loop through each class folder inside the 'data' directory\n",
    "for label in os.listdir(DATA_DIR):\n",
    "    label_folder = os.path.join(DATA_DIR, label)  # Full path to the class folder\n",
    "\n",
    "    # Make sure it's a directory (not a file)\n",
    "    if os.path.isdir(label_folder):\n",
    "        # Loop through each image in the class folder\n",
    "        for img_file in os.listdir(label_folder):\n",
    "            img_path = os.path.join(label_folder, img_file)  # Full path to the image file\n",
    "            try:\n",
    "                img = cv2.imread(img_path)  # Read the image using OpenCV\n",
    "                img = cv2.resize(img, (IMAGE_SIZE, IMAGE_SIZE))  # Resize to 128x128\n",
    "                img = img / 255.0  # Normalize pixel values to range [0, 1]\n",
    "                images.append(img)  # Add image to list\n",
    "                labels.append(label)  # Add label (class name) to list\n",
    "            except Exception as e:\n",
    "                print(f\"Failed to process {img_path}: {e}\")  # Print error if image fails\n",
    "\n",
    "# ----------------------------- Convert to Numpy Arrays -----------------------------\n",
    "X = np.array(images)  # Convert image list to numpy array\n",
    "y = np.array(labels)  # Convert label list to numpy array\n",
    "\n",
    "# ----------------------------- Encode Labels -----------------------------\n",
    "label_encoder = LabelEncoder()  # Create label encoder instance\n",
    "y_encoded = label_encoder.fit_transform(y)  # Convert class names to integers\n",
    "y_categorical = to_categorical(y_encoded)  # One-hot encode the labels\n",
    "\n",
    "# ----------------------------- Train-Test Split -----------------------------\n",
    "X_train, X_test, y_train, y_test = train_test_split(\n",
    "    X, y_categorical, test_size=0.2, random_state=42, stratify=y_categorical\n",
    ")\n",
    "# 20% data will be used for testing; 80% for training\n",
    "\n",
    "# ----------------------------- Save Data to .npy Files -----------------------------\n",
    "np.save(\"X_train.npy\", X_train)\n",
    "np.save(\"X_test.npy\", X_test)\n",
    "np.save(\"y_train.npy\", y_train)\n",
    "np.save(\"y_test.npy\", y_test)\n",
    "np.save(\"classes.npy\", label_encoder.classes_)  # Save class names for future reference\n",
    "\n",
    "print(\"✅ Preprocessing complete. Data saved.\")"
   ]
  },
  {
   "cell_type": "code",
   "execution_count": 17,
   "id": "67069208",
   "metadata": {},
   "outputs": [],
   "source": [
    "X_train = np.load(\"X_train.npy\")\n",
    "y_train = np.load(\"y_train.npy\")\n",
    "classes = np.load(\"classes.npy\")"
   ]
  },
  {
   "cell_type": "code",
   "execution_count": 18,
   "id": "a05179a3",
   "metadata": {},
   "outputs": [
    {
     "name": "stdout",
     "output_type": "stream",
     "text": [
      "(128, 128, 3)\n",
      "[0. 1. 0. 0. 0. 0. 0. 0.]\n",
      "['Pepper_bell_Bacterial_spot' 'Pepper_bell_healthy' 'Potato_Late_blight'\n",
      " 'Potato_heatlhy' 'Tomato_Bacterial_spot' 'Tomato_Septorial_leaf_spot'\n",
      " 'Tomato__Tomato_mosaic_virus' 'Tomato_healthy']\n"
     ]
    }
   ],
   "source": [
    "# check the first image and label\n",
    "print(X_train[0].shape)  # (128, 128, 3)\n",
    "print(y_train[0])        # [0, 1] or similar\n",
    "print(classes)           # ['Diseased', 'Healthy']"
   ]
  },
  {
   "cell_type": "code",
   "execution_count": null,
   "id": "a8df00e6",
   "metadata": {},
   "outputs": [],
   "source": []
  }
 ],
 "metadata": {
  "kernelspec": {
   "display_name": "base",
   "language": "python",
   "name": "python3"
  },
  "language_info": {
   "codemirror_mode": {
    "name": "ipython",
    "version": 3
   },
   "file_extension": ".py",
   "mimetype": "text/x-python",
   "name": "python",
   "nbconvert_exporter": "python",
   "pygments_lexer": "ipython3",
   "version": "3.12.7"
  }
 },
 "nbformat": 4,
 "nbformat_minor": 5
}
